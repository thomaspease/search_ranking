{
 "cells": [
  {
   "cell_type": "code",
   "execution_count": 9,
   "metadata": {},
   "outputs": [],
   "source": [
    "import pandas as pd\n",
    "df = pd.read_csv(\"products.csv\", lineterminator=\"\\n\")\n",
    "df.price = df.price.str.replace(\"[£,]\", \"\", regex=True)\n",
    "df.price = df.price.astype('float64')\n",
    "df = df.drop(columns='Unnamed: 0')\n"
   ]
  },
  {
   "cell_type": "code",
   "execution_count": null,
   "metadata": {},
   "outputs": [],
   "source": []
  }
 ],
 "metadata": {
  "kernelspec": {
   "display_name": "Python 3.10.6 ('ml-env')",
   "language": "python",
   "name": "python3"
  },
  "language_info": {
   "codemirror_mode": {
    "name": "ipython",
    "version": 3
   },
   "file_extension": ".py",
   "mimetype": "text/x-python",
   "name": "python",
   "nbconvert_exporter": "python",
   "pygments_lexer": "ipython3",
   "version": "3.10.6"
  },
  "orig_nbformat": 4,
  "vscode": {
   "interpreter": {
    "hash": "32e9af629dc1445b5b617d2b411d0db1657a3112bb3d63faec22ae2d1260d9ec"
   }
  }
 },
 "nbformat": 4,
 "nbformat_minor": 2
}
